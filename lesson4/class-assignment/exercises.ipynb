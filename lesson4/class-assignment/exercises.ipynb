{
 "cells": [
  {
   "cell_type": "markdown",
   "metadata": {},
   "source": [
    "<a name='exercises_what'></a>Exercises\n",
    "---\n",
    "#### Pet Names\n",
    "- Create a dictionary to hold information about pets. Each key is an animal's name, and each value is the kind of animal.\n",
    "    - For example, 'ziggy': 'canary'\n",
    "- Put at least 3 key-value pairs in your dictionary.\n",
    "- Use a for loop to print out a series of statements such as \"Willie is a dog.\""
   ]
  },
  {
   "cell_type": "markdown",
   "metadata": {},
   "source": [
    "<a name='exercises'></a>Exercises\n",
    "---\n",
    "\n",
    "#### Addition Calculator\n",
    "- Write a function that takes in two numbers, and adds them together. Make your function print out a sentence showing the two numbers, and the result.\n",
    "- Call your function with three different sets of numbers.\n",
    "\n",
    "#### Return Calculator\n",
    "- Modify *Addition Calculator* so that your function returns the sum of the two numbers. The printing should happen outside of the function."
   ]
  }
 ],
 "metadata": {
  "kernelspec": {
   "display_name": "Python 3",
   "language": "python",
   "name": "python3"
  },
  "language_info": {
   "codemirror_mode": {
    "name": "ipython",
    "version": 3
   },
   "file_extension": ".py",
   "mimetype": "text/x-python",
   "name": "python",
   "nbconvert_exporter": "python",
   "pygments_lexer": "ipython3",
   "version": "3.9.13"
  }
 },
 "nbformat": 4,
 "nbformat_minor": 2
}
