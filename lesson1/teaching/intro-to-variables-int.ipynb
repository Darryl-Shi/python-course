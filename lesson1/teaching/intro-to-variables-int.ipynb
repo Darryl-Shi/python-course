{
 "cells": [
  {
   "cell_type": "markdown",
   "metadata": {},
   "source": [
    "# Variables"
   ]
  },
  {
   "cell_type": "markdown",
   "metadata": {},
   "source": [
    "Variables are like containers. "
   ]
  },
  {
   "cell_type": "markdown",
   "metadata": {},
   "source": [
    "They contain values, and these values inside them can be \"looked at\" or changed"
   ]
  },
  {
   "cell_type": "code",
   "execution_count": 1,
   "metadata": {},
   "outputs": [
    {
     "name": "stdout",
     "output_type": "stream",
     "text": [
      "Value of v is 10\n"
     ]
    }
   ],
   "source": [
    "# Creating a variable\n",
    "\n",
    "v = 10\n",
    "\n",
    "# Using a variable\n",
    "# print(f\"Value of v is {v}\")\n",
    "\n",
    "print(\"Value of v is\", v)"
   ]
  },
  {
   "cell_type": "code",
   "execution_count": null,
   "metadata": {},
   "outputs": [
    {
     "name": "stdout",
     "output_type": "stream",
     "text": [
      "Value of v is 11\n",
      "Value of v is 50\n"
     ]
    }
   ],
   "source": [
    "# You can also update or change the value inside a variable\n",
    "\n",
    "v = v+1\n",
    "\n",
    "print(f\"Value of v is {v}\")\n",
    "\n",
    "v = 50 \n",
    "\n",
    "print(f\"Value of v is {v}\")\n",
    "\n"
   ]
  },
  {
   "cell_type": "markdown",
   "metadata": {},
   "source": [
    "# Types\n",
    "\n",
    "Variables have different types. Simply put, it just means what kind of data the variable contains.\n",
    "\n",
    "There are a few main types, but we will only be looking at strings and integers today.\n",
    "\n",
    "Text Type:\tstr  \n",
    "Numeric Types:\tint, float, complex  \n",
    "Sequence Types:\tlist, tuple, range  \n",
    "Mapping Type:\tdict  \n",
    "Set Types:\tset, frozenset  \n",
    "Boolean Type:\tbool  \n",
    "Binary Types:\tbytes, bytearray, memoryview  \n",
    "None Type:\tNoneType  \n",
    "\n",
    "We can check the type of a variable by calling the type() function on the variable\n"
   ]
  },
  {
   "cell_type": "code",
   "execution_count": 2,
   "metadata": {},
   "outputs": [
    {
     "name": "stdout",
     "output_type": "stream",
     "text": [
      "The type of v and hi respectively are <class 'int'> and <class 'str'>\n"
     ]
    }
   ],
   "source": [
    "v = 5\n",
    "hi = \"Hello world!\"\n",
    "\n",
    "# print(f\"The type of v and hi respectively are {type(v)} and {type(hi)}\")\n",
    "print(\"The type of v and hi respectively are\", type(v), \"and\", type(hi))"
   ]
  },
  {
   "cell_type": "markdown",
   "metadata": {},
   "source": [
    "# Since v is a integer datatype, we can perform mathematical operations on it"
   ]
  },
  {
   "cell_type": "code",
   "execution_count": 3,
   "metadata": {},
   "outputs": [
    {
     "name": "stdout",
     "output_type": "stream",
     "text": [
      "5v = 25\n"
     ]
    }
   ],
   "source": [
    "print(f\"5v = {v*5}\")"
   ]
  }
 ],
 "metadata": {
  "kernelspec": {
   "display_name": "base",
   "language": "python",
   "name": "python3"
  },
  "language_info": {
   "codemirror_mode": {
    "name": "ipython",
    "version": 3
   },
   "file_extension": ".py",
   "mimetype": "text/x-python",
   "name": "python",
   "nbconvert_exporter": "python",
   "pygments_lexer": "ipython3",
   "version": "3.9.13"
  }
 },
 "nbformat": 4,
 "nbformat_minor": 2
}
