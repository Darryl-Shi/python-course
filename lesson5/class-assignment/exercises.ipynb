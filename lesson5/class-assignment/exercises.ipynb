{
 "cells": [
  {
   "cell_type": "markdown",
   "metadata": {},
   "source": [
    "<a name='exercises_what'></a>Exercises\n",
    "---\n",
    "\n",
    "#### Your Own Rocket\n",
    "- Try to recreate the Rocket class as it has been shown so far.\n",
    "    - Define the Rocket() class.\n",
    "    - Define the \\_\\_init\\_\\_() method, which sets an x and a y value for each Rocket object.\n",
    "    - Define the move_up() method.\n",
    "    - Create a Rocket object.\n",
    "    - Print the object.\n",
    "    - Print the object's y-value.\n",
    "    - Move the rocket up, and print its y-value again.\n",
    "    - Create a fleet of rockets, and prove that they are indeed separate Rocket objects."
   ]
  },
  {
   "cell_type": "code",
   "execution_count": 3,
   "metadata": {},
   "outputs": [
    {
     "name": "stdout",
     "output_type": "stream",
     "text": [
      "<__main__.Rocket object at 0x00000262512BC880>\n",
      "0\n",
      "1\n",
      "<__main__.Rocket object at 0x00000262512BC160>\n",
      "<__main__.Rocket object at 0x00000262512205B0>\n",
      "<__main__.Rocket object at 0x0000026251220160>\n",
      "<__main__.Rocket object at 0x0000026251220A60>\n",
      "<__main__.Rocket object at 0x00000262512207C0>\n"
     ]
    }
   ],
   "source": [
    "class Rocket():\n",
    "\n",
    "    def __init__(self):\n",
    "        self.x = 0\n",
    "        self.y = 0\n",
    "\n",
    "    def move_up(self):\n",
    "        self.y += 1\n",
    "\n",
    "rocket = Rocket()\n",
    "print(rocket)\n",
    "print(rocket.y)\n",
    "rocket.move_up()\n",
    "print(rocket.y)\n",
    "\n",
    "my_fleet = [Rocket() for _ in range(5)]\n",
    "for rockets in my_fleet:\n",
    "    print(rockets)"
   ]
  },
  {
   "cell_type": "markdown",
   "metadata": {},
   "source": [
    "#### Your Own Rocket 2\n",
    "- There are enough new concepts here that you might want to try re-creating the Rocket class as it has been developed so far, looking at the examples as little as possible. Once you have your own version, regardless of how much you needed to look at the example, you can modify the class and explore the possibilities of what you have already learned.\n",
    "    - Re-create the Rocket class as it has been developed so far:\n",
    "        - Define the Rocket() class.\n",
    "        - Define the \\_\\_init\\_\\_() method. Let your \\_\\_init\\_\\_() method accept x and y values for the initial position of the rocket. Make sure the default behavior is to position the rocket at (0,0).\n",
    "        - Define the move_rocket() method. The method should accept an amount to move left or right, and an amount to move up or down.\n",
    "        - Create a Rocket object. Move the rocket around, printing its position after each move.\n",
    "        - Create a small fleet of rockets. Move several of them around, and print their final positions to prove that each rocket can move independently of the other rockets.\n",
    "        - Define the get_distance() method. The method should accept a Rocket object, and calculate the distance between the current rocket and the rocket that is passed into the method.\n",
    "        - Use the get_distance() method to print the distances between several of the rockets in your fleet.\n",
    "\n",
    "#### Rocket Attributes\n",
    "- Start with a copy of the Rocket class, either one you made from a previous exercise or the latest version from the last section.\n",
    "- Add several of your own attributes to the \\_\\_init\\_\\_() function. The values of your attributes can be set automatically by the \\_\\_init\\_\\_ function, or they can be set by parameters passed into \\_\\_init\\_\\_().\n",
    "- Create a rocket and print the values for the attributes you have created, to show they have been set correctly.\n",
    "- Create a small fleet of rockets, and set different values for one of the attributes you have created. Print the values of these attributes for each rocket in your fleet, to show that they have been set properly for each rocket.\n",
    "- If you are not sure what kind of attributes to add, you could consider storing the height of the rocket, the crew size, the name of the rocket, the speed of the rocket, or many other possible characteristics of a rocket.\n",
    "\n",
    "#### Rocket Methods\n",
    "- Start with a copy of the Rocket class, either one you made from a previous exercise or the latest version from the last section.\n",
    "- Add a new method to the class. This is probably a little more challenging than adding attributes, but give it a try.\n",
    "    - Think of what rockets do, and make a very simple version of that behavior using print statements. For example, rockets lift off when they are launched. You could make a method called *launch()*, and all it would do is print a statement such as \"The rocket has lifted off!\" If your rocket has a name, this sentence could be more descriptive.\n",
    "    - You could make a very simple *land_rocket()* method that simply sets the x and y values of the rocket back to 0. Print the position before and after calling the *land_rocket()* method to make sure your method is doing what it's supposed to.\n",
    "    - If you enjoy working with math, you could implement a *safety_check()* method. This method would take in another rocket object, and call the get_distance() method on that rocket. Then it would check if that rocket is too close, and print a warning message if the rocket is too close. If there is zero distance between the two rockets, your method could print a message such as, \"The rockets have crashed!\" (Be careful; getting a zero distance could mean that you accidentally found the distance between a rocket and itself, rather than a second rocket.)\n",
    "    \n",
    "#### <a name='exercise_person_class'></a>Person Class\n",
    "- Modeling a person is a classic exercise for people who are trying to learn how to write classes. We are all familiar with characteristics and behaviors of people, so it is a good exercise to try.\n",
    "    - Define a Person() class.\n",
    "    - In the \\_\\_init()\\_\\_ function, define several attributes of a person. Good attributes to consider are name, age, place of birth, and anything else you like to know about the people in your life.\n",
    "    - Write one method. This could be as simple as *introduce_yourself()*. This method would print out a statement such as, \"Hello, my name is Eric.\"\n",
    "    - You could also make a method such as *age_person()*. A simple version of this method would just add 1 to the person's age.\n",
    "    - Create a person, set the attribute values appropriately, and print out information about the person.\n",
    "    - Call your method on the person you created. Make sure your method executed properly; if the method does not print anything out directly, print something before and after calling the method to make sure it did what it was supposed to."
   ]
  },
  {
   "cell_type": "markdown",
   "metadata": {},
   "source": [
    "#### <a name='exercise_student_class'></a>Student Class\n",
    "- Start with your program from Person Class.\n",
    "- Make a new class called Student that inherits from Person.\n",
    "- Define some attributes that a student has, which other people don't have.\n",
    "    - A student has a school they are associated with, a graduation year, a gpa, and other particular attributes.\n",
    "- Create a Student object, and prove that you have used inheritance correctly.\n",
    "    - Set some attribute values for the student, that are only coded in the Person class.\n",
    "    - Set some attribute values for the student, that are only coded in the Student class.\n",
    "    - Print the values for all of these attributes."
   ]
  },
  {
   "cell_type": "markdown",
   "metadata": {},
   "source": [
    "#### Importing Student\n",
    "- Take your program from Student Class\n",
    "    - Save your Person and Student classes in a separate file called *person.py*.\n",
    "    - Save the code that uses these classes in four separate files.\n",
    "        - In the first file, use the `from module_name import ClassName` syntax to make your program run.\n",
    "        - In the second file, use the `import module_name` syntax.\n",
    "        - In the third file, use the `import module_name as different_local_module_name` syntax.\n",
    "        - In the fourth file, use the `import *` syntax.\n"
   ]
  }
 ],
 "metadata": {
  "kernelspec": {
   "display_name": "base",
   "language": "python",
   "name": "python3"
  },
  "language_info": {
   "codemirror_mode": {
    "name": "ipython",
    "version": 3
   },
   "file_extension": ".py",
   "mimetype": "text/x-python",
   "name": "python",
   "nbconvert_exporter": "python",
   "pygments_lexer": "ipython3",
   "version": "3.9.13"
  }
 },
 "nbformat": 4,
 "nbformat_minor": 2
}
